{
 "cells": [
  {
   "cell_type": "markdown",
   "metadata": {},
   "source": [
    "# Import packages"
   ]
  },
  {
   "cell_type": "code",
   "execution_count": 24,
   "metadata": {},
   "outputs": [
    {
     "name": "stdout",
     "output_type": "stream",
     "text": [
      "yahooo_crawler\n"
     ]
    }
   ],
   "source": [
    "import os\n",
    "import re\n",
    "import time\n",
    "import requests\n",
    "import numpy as np\n",
    "import pandas as pd\n",
    "from scipy.stats import t as T\n",
    "import matplotlib.pyplot as plt\n",
    "import matplotlib.ticker as mtick\n",
    "from statsmodels.api import OLS, add_constant\n",
    "\n",
    "import yahoo_crawler\n",
    "yc = yahoo_crawler.yahoo_crawler()"
   ]
  },
  {
   "cell_type": "code",
   "execution_count": 2,
   "metadata": {},
   "outputs": [],
   "source": [
    "plt.rcParams['font.family'] = 'serif'\n",
    "plt.rcParams['figure.facecolor'] = '1.'\n",
    "plt.rcParams[\"axes.axisbelow\"] = False"
   ]
  },
  {
   "cell_type": "markdown",
   "metadata": {},
   "source": [
    "# Update local stock list"
   ]
  },
  {
   "cell_type": "code",
   "execution_count": 3,
   "metadata": {},
   "outputs": [],
   "source": [
    "def update_stocklist_data():\n",
    "    ''' Functions for update stocklist data\n",
    "    Source: www.nasdaq.com\n",
    "    '''\n",
    "    # create stock_list data folder\n",
    "    folder = os.getcwd() + '\\\\stock_list\\\\'\n",
    "    if not os.path.exists(folder):\n",
    "        os.makedirs(folder)\n",
    "\n",
    "    # soure url\n",
    "    url = 'https://www.nasdaq.com/screening/companies-by-name.aspx?letter=0&exchange=%s&render=download'\n",
    "\n",
    "    # available exhanges\n",
    "    exchange = ['nasdaq', 'nyse', 'amex']\n",
    "\n",
    "    for exchg in exchange:\n",
    "        resp = requests.get(url%exchg)\n",
    "        with open(folder + '%s.xlsx'%exchg, 'wb') as output:\n",
    "            output.write(resp.content)\n",
    "    pass\n",
    "\n",
    "# update stock_list\n",
    "update_stocklist_data()"
   ]
  },
  {
   "cell_type": "markdown",
   "metadata": {},
   "source": [
    "# Read local stock list"
   ]
  },
  {
   "cell_type": "code",
   "execution_count": 4,
   "metadata": {
    "scrolled": true
   },
   "outputs": [
    {
     "name": "stdout",
     "output_type": "stream",
     "text": [
      "AMEX.XLSX (309, 9) \n",
      "==================================================\n",
      "                                                 Name\n",
      "0                            22nd Century Group, Inc\n",
      "1              Aberdeen Asia-Pacific Income Fund Inc\n",
      "2                 Aberdeen Australia Equity Fund Inc\n",
      "3  Aberdeen Emerging Markets Equity Income Fund, ...\n",
      "4                  Aberdeen Global Income Fund, Inc.\n",
      "==================================================\n",
      "\n",
      "NASDAQ.XLSX (3447, 9) \n",
      "==================================================\n",
      "                                      Name\n",
      "0                               111, Inc.\n",
      "1  1347 Property Insurance Holdings, Inc.\n",
      "2  1347 Property Insurance Holdings, Inc.\n",
      "3                180 Degree Capital Corp.\n",
      "4                 1-800 FLOWERS.COM, Inc.\n",
      "==================================================\n",
      "\n",
      "NYSE.XLSX (3108, 9) \n",
      "==================================================\n",
      "                      Name\n",
      "0  3D Systems Corporation\n",
      "1              3M Company\n",
      "2         500.com Limited\n",
      "3             58.com Inc.\n",
      "4                 8x8 Inc\n",
      "==================================================\n",
      "\n",
      "Total 5304 companies, unique 4793 companies.\n"
     ]
    }
   ],
   "source": [
    "# data folder\n",
    "folder = os.getcwd() + '\\\\stock_list\\\\'\n",
    "\n",
    "# file names\n",
    "files = os.listdir( folder )\n",
    "\n",
    "stolis_df_list = []\n",
    "for f in files:\n",
    "    df = pd.read_csv( folder + f )\n",
    "    stolis_df_list.append(df)\n",
    "    print(f.upper(),df.shape, '\\n==================================================\\n',\n",
    "          df[['Name']].head() )\n",
    "    print('==================================================\\n')\n",
    "\n",
    "# concatenate companies from three exhanges\n",
    "stolis_df_ = pd.concat(stolis_df_list, axis = 0)\n",
    "\n",
    "# drop out fund\n",
    "stolis_df_ = stolis_df_[stolis_df_['industry'] == stolis_df_['industry']]\n",
    "\n",
    "# drop dupplicated company names\n",
    "stolis_df = stolis_df_.drop_duplicates(['Name']).reset_index(drop = True)\n",
    "\n",
    "print('Total %s companies, unique %s companies.' % (stolis_df_.shape[0], stolis_df.shape[0]))"
   ]
  },
  {
   "cell_type": "markdown",
   "metadata": {},
   "source": [
    "# Fetch yahoo finance stock data"
   ]
  },
  {
   "cell_type": "code",
   "execution_count": 5,
   "metadata": {},
   "outputs": [],
   "source": [
    "def get_stock_data(symbol, start, end,):\n",
    "    t = time.time()\n",
    "    cookie,crumb = yc.get_yahoo_crumb_cookie()\n",
    "\n",
    "    symbol = symbol# stock id\n",
    "    params = {'period1' : start,\n",
    "              'period2' : end,\n",
    "              'interval': '1d',\n",
    "              'events'  : 'history',\n",
    "              'crumb'   : crumb}\n",
    "    df = yc.GetStockPrice(symbol = symbol,\n",
    "                               params = params,\n",
    "                               request_type = 'post')\n",
    "    \n",
    "    # set date as index\n",
    "    df = df.set_index('Date')\n",
    "    df.sort_index(inplace = True)\n",
    "    \n",
    "    t2 = time.time() - t\n",
    "    print(str(round(t2,4))+' seconds elapsed...')\n",
    "    return df[['Adj Close']]"
   ]
  },
  {
   "cell_type": "code",
   "execution_count": 6,
   "metadata": {},
   "outputs": [
    {
     "name": "stdout",
     "output_type": "stream",
     "text": [
      "Connected! It's the 1/200 try...\n",
      "1.416 seconds elapsed...\n"
     ]
    }
   ],
   "source": [
    "# define trading dates with S&P index\n",
    "SP500          = get_stock_data(symbol = '^GSPC', start = '2014-12-01', end = '2019-04-19')\n",
    "standard_index = SP500.index"
   ]
  },
  {
   "cell_type": "code",
   "execution_count": 7,
   "metadata": {},
   "outputs": [],
   "source": [
    "def reindex_data(symbol, tweets_date, standard_index = standard_index, how = 'test'):\n",
    "    \n",
    "    assert how in ['test', 'train'], 'Parameter *how* must be either \\'test\\' or \\'train\\'!'\n",
    "    \n",
    "    if how == 'test':\n",
    "        start = standard_index[ standard_index <  tweets_date][-11]\n",
    "        end   = standard_index[ standard_index >= tweets_date][ 11]\n",
    "\n",
    "        df = get_stock_data(symbol = symbol, start = start, end = end)\n",
    "\n",
    "        df = df.reindex(standard_index)\n",
    "\n",
    "        df_ = pd.concat([ df[ df.index <  tweets_date ].tail(10),\n",
    "                          df[ df.index >= tweets_date ].head(11) ])\n",
    "    \n",
    "    elif how == 'train':\n",
    "        start = standard_index[ standard_index <  tweets_date][-252]\n",
    "        end   = standard_index[ standard_index >= tweets_date][  11]\n",
    "\n",
    "        df = get_stock_data(symbol = symbol, start = start, end = end)\n",
    "\n",
    "        df = df.reindex(standard_index)\n",
    "\n",
    "        df_ = pd.concat([ df[ df.index <  tweets_date ].tail(251),\n",
    "                          df[ df.index >= tweets_date ].head(11) ])\n",
    "        \n",
    "    return df_"
   ]
  },
  {
   "cell_type": "markdown",
   "metadata": {},
   "source": [
    "# Fetch marked tweets data"
   ]
  },
  {
   "cell_type": "code",
   "execution_count": 8,
   "metadata": {},
   "outputs": [
    {
     "data": {
      "text/html": [
       "<div>\n",
       "<style scoped>\n",
       "    .dataframe tbody tr th:only-of-type {\n",
       "        vertical-align: middle;\n",
       "    }\n",
       "\n",
       "    .dataframe tbody tr th {\n",
       "        vertical-align: top;\n",
       "    }\n",
       "\n",
       "    .dataframe thead th {\n",
       "        text-align: right;\n",
       "    }\n",
       "</style>\n",
       "<table border=\"1\" class=\"dataframe\">\n",
       "  <thead>\n",
       "    <tr style=\"text-align: right;\">\n",
       "      <th></th>\n",
       "      <th>date</th>\n",
       "      <th>company</th>\n",
       "      <th>ticker</th>\n",
       "      <th>type</th>\n",
       "      <th>subject</th>\n",
       "    </tr>\n",
       "  </thead>\n",
       "  <tbody>\n",
       "    <tr>\n",
       "      <th>0</th>\n",
       "      <td>2019-03-20 20:51:41</td>\n",
       "      <td>Ford</td>\n",
       "      <td>F</td>\n",
       "      <td>1</td>\n",
       "      <td>new investemetn in US</td>\n",
       "    </tr>\n",
       "    <tr>\n",
       "      <th>1</th>\n",
       "      <td>2019-03-17 22:27:27</td>\n",
       "      <td>General Motors</td>\n",
       "      <td>GM</td>\n",
       "      <td>-1</td>\n",
       "      <td>dissatified with negitation result</td>\n",
       "    </tr>\n",
       "    <tr>\n",
       "      <th>2</th>\n",
       "      <td>2019-03-14 16:18:40</td>\n",
       "      <td>Toyota</td>\n",
       "      <td>TM</td>\n",
       "      <td>1</td>\n",
       "      <td>favorable news due to new progress of nafta deal</td>\n",
       "    </tr>\n",
       "    <tr>\n",
       "      <th>3</th>\n",
       "      <td>2019-02-27 09:20:25</td>\n",
       "      <td>Fiat Chrysler</td>\n",
       "      <td>FCAU</td>\n",
       "      <td>1</td>\n",
       "      <td>Job adding</td>\n",
       "    </tr>\n",
       "    <tr>\n",
       "      <th>4</th>\n",
       "      <td>2018-11-29 11:37:14</td>\n",
       "      <td>General Motors</td>\n",
       "      <td>GM</td>\n",
       "      <td>-1</td>\n",
       "      <td>irony statement</td>\n",
       "    </tr>\n",
       "  </tbody>\n",
       "</table>\n",
       "</div>"
      ],
      "text/plain": [
       "                 date          company ticker  type  \\\n",
       "0 2019-03-20 20:51:41             Ford      F     1   \n",
       "1 2019-03-17 22:27:27  General Motors      GM    -1   \n",
       "2 2019-03-14 16:18:40           Toyota     TM     1   \n",
       "3 2019-02-27 09:20:25    Fiat Chrysler   FCAU     1   \n",
       "4 2018-11-29 11:37:14  General Motors      GM    -1   \n",
       "\n",
       "                                            subject  \n",
       "0                             new investemetn in US  \n",
       "1                dissatified with negitation result  \n",
       "2  favorable news due to new progress of nafta deal  \n",
       "3                                        Job adding  \n",
       "4                                   irony statement  "
      ]
     },
     "execution_count": 8,
     "metadata": {},
     "output_type": "execute_result"
    }
   ],
   "source": [
    "tweets = pd.read_excel('mentioned_stock.xlsx')\n",
    "tweets['ticker'] = tweets['ticker'].apply(lambda x: x.replace(' ', ''))\n",
    "tweets.head()"
   ]
  },
  {
   "cell_type": "code",
   "execution_count": 9,
   "metadata": {},
   "outputs": [
    {
     "data": {
      "text/plain": [
       "Timestamp('2016-11-17 21:51:00')"
      ]
     },
     "execution_count": 9,
     "metadata": {},
     "output_type": "execute_result"
    }
   ],
   "source": [
    "tweets['date'].min()"
   ]
  },
  {
   "cell_type": "code",
   "execution_count": 10,
   "metadata": {},
   "outputs": [
    {
     "data": {
      "text/plain": [
       "date                                    2019-03-14 16:18:40\n",
       "company                                              Toyota\n",
       "ticker                                                   TM\n",
       "type                                                      1\n",
       "subject    favorable news due to new progress of nafta deal\n",
       "Name: 2, dtype: object"
      ]
     },
     "execution_count": 10,
     "metadata": {},
     "output_type": "execute_result"
    }
   ],
   "source": [
    "tweets_i = tweets.iloc[2,:]\n",
    "tweets_i"
   ]
  },
  {
   "cell_type": "code",
   "execution_count": 11,
   "metadata": {},
   "outputs": [
    {
     "data": {
      "text/plain": [
       "'TM'"
      ]
     },
     "execution_count": 11,
     "metadata": {},
     "output_type": "execute_result"
    }
   ],
   "source": [
    "symbol = tweets_i['ticker']\n",
    "symbol"
   ]
  },
  {
   "cell_type": "code",
   "execution_count": 12,
   "metadata": {},
   "outputs": [],
   "source": [
    "def my_normalize(df):\n",
    "    df = df.copy()\n",
    "    df -= df.mean()\n",
    "    df /= df.std()\n",
    "    return df"
   ]
  },
  {
   "cell_type": "code",
   "execution_count": 13,
   "metadata": {},
   "outputs": [],
   "source": [
    "def fetch_data_set(symbol, tweets_date, plot = False):\n",
    "    ''' Prepare dataset\n",
    "    '''\n",
    "    \n",
    "    dict_ = {}\n",
    "    ###################################################################################################\n",
    "    #1, Prepare stock price series\n",
    "    S_i = reindex_data(symbol = symbol, tweets_date = tweets_date, how = 'train')\n",
    "\n",
    "    S_m = SP500.reindex(S_i.index)\n",
    "\n",
    "    df = pd.concat([S_i, S_m ], axis = 1)\n",
    "    df.columns = ['S_i', 'S_m']\n",
    "    \n",
    "    assert len(df[df['S_i'] != df['S_i']]) < 10, 'Missing values of stock %s are more than 10!'%symbol\n",
    "    \n",
    "    # fillna for stocks\n",
    "    df = df.fillna(method = 'pad').fillna(method = 'bfill')\n",
    "    \n",
    "    assert len(df[df['S_i'] != df['S_i']]) == 0, 'Failed to fillna for tock %s!'%symbol\n",
    "    \n",
    "    dict_['price'] = df.copy()\n",
    "    ###################################################################################################\n",
    "    #2, Prepare stockprice series\n",
    "    \n",
    "    # calculate log return of stock_i and S&P500\n",
    "    ret = np.log(df).diff().dropna()\n",
    "    \n",
    "    dict_['return'] = ret.copy()\n",
    "    \n",
    "    # regression R_i against R_m\n",
    "    X = add_constant( ret['S_m'].iloc[: 240] )\n",
    "    model = OLS( ret['S_i'].iloc[: 240], X ).fit()\n",
    "    \n",
    "    \n",
    "    # predict S_i\n",
    "    X = add_constant( ret['S_m'] )\n",
    "    R_i_pred = model.predict(X)\n",
    "    \n",
    "    AR = ret['S_i'] - R_i_pred\n",
    "    \n",
    "    # store price, return, parameters, t values, and p values, AR\n",
    "    dict_.update( {\n",
    "        'price'   : df.copy(),\n",
    "        'return'  : ret.copy(),\n",
    "        'params'  : model.params ,\n",
    "        't_values': model.tvalues, \n",
    "        'p_values': model.pvalues,\n",
    "        'AR'      : AR.copy()\n",
    "                 } )\n",
    "    \n",
    "    if plot:\n",
    "        fig = plt.figure(figsize = [10, 6])\n",
    "        \n",
    "        ax1 = fig.add_subplot(221)\n",
    "        ax1.plot(my_normalize(df['S_i']), label = symbol)\n",
    "        ax1.plot(my_normalize(df['S_m']), label = 'S&P500' )\n",
    "        ax1.set_ylabel('Normalize price serires')\n",
    "        ax1.spines['top'  ].set_color('none')\n",
    "        ax1.spines['left' ].set_color('none')\n",
    "        ax1.spines['right'].set_color('none')\n",
    "        ax1.legend(loc = 'best')\n",
    "        ax1.grid(linestyle = ':', axis = 'y')\n",
    "        plt.xticks(rotation = 15)\n",
    "        \n",
    "        ax2 = fig.add_subplot(222)\n",
    "        ax2.plot(ret['S_i'], '-*', label = '%s log return'%symbol)\n",
    "        ax2.plot(ret['S_m'], '-*', label = 'S&P500 log return' )\n",
    "        ax2.set_ylabel('Log Return')\n",
    "        ax2.spines['top'  ].set_color('none')\n",
    "        ax2.spines['left' ].set_color('none')\n",
    "        ax2.spines['right'].set_color('none')\n",
    "        ax2.legend(loc = 'best')\n",
    "        ax2.grid(linestyle = ':', axis = 'y')\n",
    "        ax2.yaxis.set_major_formatter(mtick.PercentFormatter(1))\n",
    "        plt.xticks(rotation = 15)\n",
    "        \n",
    "        ax3 = fig.add_subplot(212)\n",
    "        ax3.plot(AR, '-*', label = '%s AR'%symbol)\n",
    "        ax3.set_ylabel('AR')\n",
    "        ax3.spines['top'  ].set_color('none')\n",
    "        ax3.spines['left' ].set_color('none')\n",
    "        ax3.spines['right'].set_color('none')\n",
    "        ax3.legend(loc = 'best')\n",
    "        ax3.grid(linestyle = ':', axis = 'y')\n",
    "        ax3.yaxis.set_major_formatter(mtick.PercentFormatter(1))\n",
    "        plt.xticks(rotation = 15)\n",
    "        \n",
    "        plt.suptitle('Price, Return, and AR of %s vs. S&P500'%symbol, fontsize = 20)\n",
    "        plt.show()\n",
    "        \n",
    "    return dict_"
   ]
  },
  {
   "cell_type": "code",
   "execution_count": 14,
   "metadata": {},
   "outputs": [
    {
     "name": "stdout",
     "output_type": "stream",
     "text": [
      "Connected! It's the 1/200 try...\n",
      "0.722 seconds elapsed...\n"
     ]
    },
    {
     "data": {
      "image/png": "[encoded data removed]",
      "text/plain": [
       "<Figure size 720x432 with 3 Axes>"
      ]
     },
     "metadata": {},
     "output_type": "display_data"
    },
    {
     "data": {
      "text/plain": [
       "dict_keys(['price', 'return', 'params', 't_values', 'p_values', 'AR'])"
      ]
     },
     "execution_count": 14,
     "metadata": {},
     "output_type": "execute_result"
    }
   ],
   "source": [
    "dict_ = fetch_data_set(symbol, tweets_i['date'], plot = True)\n",
    "dict_.keys()"
   ]
  },
  {
   "cell_type": "code",
   "execution_count": 15,
   "metadata": {
    "scrolled": true
   },
   "outputs": [
    {
     "name": "stdout",
     "output_type": "stream",
     "text": [
      "Connected! It's the 1/200 try...\n",
      "0.806 seconds elapsed...\n",
      "Successfully fetched data for F...\n",
      "==========================================\n",
      "\n",
      "Connected! It's the 1/200 try...\n",
      "0.816 seconds elapsed...\n",
      "Successfully fetched data for GM...\n",
      "==========================================\n",
      "\n",
      "Connected! It's the 1/200 try...\n",
      "0.793 seconds elapsed...\n",
      "Successfully fetched data for TM...\n",
      "==========================================\n",
      "\n",
      "Connected! It's the 1/200 try...\n",
      "0.885 seconds elapsed...\n",
      "Successfully fetched data for FCAU...\n",
      "==========================================\n",
      "\n",
      "Connected! It's the 1/200 try...\n",
      "0.651 seconds elapsed...\n",
      "Successfully fetched data for GM...\n",
      "==========================================\n",
      "\n",
      "Connected! It's the 1/200 try...\n",
      "0.548 seconds elapsed...\n",
      "Successfully fetched data for GM...\n",
      "==========================================\n",
      "\n",
      "Connected! It's the 1/200 try...\n",
      "0.698 seconds elapsed...\n",
      "Successfully fetched data for AAPL...\n",
      "==========================================\n",
      "\n",
      "Connected! It's the 1/200 try...\n",
      "0.802 seconds elapsed...\n",
      "Successfully fetched data for TRCO...\n",
      "==========================================\n",
      "\n",
      "Connected! It's the 1/200 try...\n",
      "0.616 seconds elapsed...\n",
      "Successfully fetched data for SBGI...\n",
      "==========================================\n",
      "\n",
      "Connected! It's the 1/200 try...\n",
      "0.693 seconds elapsed...\n",
      "Successfully fetched data for NVS...\n",
      "==========================================\n",
      "\n",
      "Connected! It's the 1/200 try...\n",
      "0.601 seconds elapsed...\n",
      "Successfully fetched data for PFE...\n",
      "==========================================\n",
      "\n",
      "Connected! It's the 1/200 try...\n",
      "0.656 seconds elapsed...\n",
      "Successfully fetched data for PFE...\n",
      "==========================================\n",
      "\n",
      "Connected! It's the 1/200 try...\n",
      "0.838 seconds elapsed...\n",
      "Successfully fetched data for HOG...\n",
      "==========================================\n",
      "\n",
      "Connected! It's the 1/200 try...\n",
      "0.729 seconds elapsed...\n",
      "Successfully fetched data for AMZN...\n",
      "==========================================\n",
      "\n",
      "Connected! It's the 1/200 try...\n",
      "0.616 seconds elapsed...\n",
      "Successfully fetched data for FOXA...\n",
      "==========================================\n",
      "\n",
      "Connected! It's the 1/200 try...\n",
      "0.681 seconds elapsed...\n",
      "Successfully fetched data for FCAU...\n",
      "==========================================\n",
      "\n",
      "Connected! It's the 1/200 try...\n",
      "0.595 seconds elapsed...\n",
      "Successfully fetched data for JPM...\n",
      "==========================================\n",
      "\n",
      "Connected! It's the 1/200 try...\n",
      "0.665 seconds elapsed...\n",
      "Successfully fetched data for DIS...\n",
      "==========================================\n",
      "\n",
      "Connected! It's the 1/200 try...\n",
      "0.633 seconds elapsed...\n",
      "Successfully fetched data for CCF...\n",
      "==========================================\n",
      "\n",
      "Connected! It's the 1/200 try...\n",
      "0.612 seconds elapsed...\n",
      "Successfully fetched data for AAPL...\n",
      "==========================================\n",
      "\n",
      "Connected! It's the 1/200 try...\n",
      "0.532 seconds elapsed...\n",
      "Successfully fetched data for FCAU...\n",
      "==========================================\n",
      "\n",
      "Connected! It's the 1/200 try...\n",
      "0.761 seconds elapsed...\n",
      "Successfully fetched data for TM...\n",
      "==========================================\n",
      "\n",
      "Connected! It's the 1/200 try...\n",
      "0.504 seconds elapsed...\n",
      "Successfully fetched data for AMZN...\n",
      "==========================================\n",
      "\n",
      "Connected! It's the 1/200 try...\n",
      "0.628 seconds elapsed...\n",
      "Successfully fetched data for AVGO...\n",
      "==========================================\n",
      "\n",
      "Connected! It's the 1/200 try...\n",
      "0.543 seconds elapsed...\n",
      "Successfully fetched data for AAL...\n",
      "==========================================\n",
      "\n",
      "Connected! It's the 1/200 try...\n",
      "0.632 seconds elapsed...\n",
      "Successfully fetched data for AMZN...\n",
      "==========================================\n",
      "\n",
      "Connected! It's the 1/200 try...\n",
      "0.64 seconds elapsed...\n",
      "Successfully fetched data for MRK...\n",
      "==========================================\n",
      "\n",
      "Connected! It's the 1/200 try...\n",
      "0.584 seconds elapsed...\n",
      "Successfully fetched data for AMZN...\n",
      "==========================================\n",
      "\n",
      "Connected! It's the 1/200 try...\n",
      "0.617 seconds elapsed...\n",
      "Successfully fetched data for MRK...\n",
      "==========================================\n",
      "\n",
      "Connected! It's the 1/200 try...\n",
      "0.603 seconds elapsed...\n",
      "Successfully fetched data for PFE...\n",
      "==========================================\n",
      "\n",
      "Connected! It's the 1/200 try...\n",
      "0.693 seconds elapsed...\n",
      "Successfully fetched data for GLW...\n",
      "==========================================\n",
      "\n",
      "Connected! It's the 1/200 try...\n",
      "0.508 seconds elapsed...\n",
      "Successfully fetched data for AMZN...\n",
      "==========================================\n",
      "\n",
      "Connected! It's the 1/200 try...\n",
      "0.753 seconds elapsed...\n",
      "Successfully fetched data for RXN...\n",
      "==========================================\n",
      "\n",
      "Connected! It's the 1/200 try...\n",
      "0.608 seconds elapsed...\n",
      "Successfully fetched data for F...\n",
      "==========================================\n",
      "\n",
      "Connected! It's the 1/200 try...\n",
      "0.592 seconds elapsed...\n",
      "Successfully fetched data for XOM...\n",
      "==========================================\n",
      "\n",
      "Connected! It's the 1/200 try...\n",
      "0.626 seconds elapsed...\n",
      "Successfully fetched data for INTC...\n",
      "==========================================\n",
      "\n",
      "Connected! It's the 1/200 try...\n",
      "0.603 seconds elapsed...\n",
      "Successfully fetched data for JWN...\n",
      "==========================================\n",
      "\n",
      "Connected! It's the 1/200 try...\n",
      "0.593 seconds elapsed...\n",
      "Successfully fetched data for GM...\n",
      "==========================================\n",
      "\n",
      "Connected! It's the 1/200 try...\n",
      "0.607 seconds elapsed...\n",
      "Successfully fetched data for GM...\n",
      "==========================================\n",
      "\n",
      "Connected! It's the 1/200 try...\n",
      "0.645 seconds elapsed...\n",
      "Successfully fetched data for WMT...\n",
      "==========================================\n",
      "\n",
      "Connected! It's the 1/200 try...\n",
      "0.565 seconds elapsed...\n",
      "Successfully fetched data for F...\n",
      "==========================================\n",
      "\n",
      "Connected! It's the 1/200 try...\n",
      "0.611 seconds elapsed...\n",
      "Successfully fetched data for FCAU...\n",
      "==========================================\n",
      "\n",
      "Connected! It's the 1/200 try...\n",
      "0.552 seconds elapsed...\n",
      "Successfully fetched data for TM...\n",
      "==========================================\n",
      "\n",
      "Connected! It's the 1/200 try...\n",
      "0.549 seconds elapsed...\n",
      "Successfully fetched data for F...\n",
      "==========================================\n",
      "\n",
      "Connected! It's the 1/200 try...\n",
      "0.57 seconds elapsed...\n",
      "Successfully fetched data for GM...\n",
      "==========================================\n",
      "\n",
      "Connected! It's the 1/200 try...\n",
      "0.52 seconds elapsed...\n",
      "Successfully fetched data for RXN...\n",
      "==========================================\n",
      "\n",
      "Connected! It's the 1/200 try...\n",
      "0.659 seconds elapsed...\n",
      "Successfully fetched data for BA...\n",
      "==========================================\n",
      "\n",
      "Connected! It's the 1/200 try...\n",
      "0.755 seconds elapsed...\n",
      "Successfully fetched data for LMT...\n",
      "==========================================\n",
      "\n",
      "Connected! It's the 1/200 try...\n",
      "0.557 seconds elapsed...\n",
      "Successfully fetched data for LMT...\n",
      "==========================================\n",
      "\n",
      "Connected! It's the 1/200 try...\n",
      "1.073 seconds elapsed...\n",
      "Successfully fetched data for F...\n",
      "==========================================\n",
      "\n",
      "Connected! It's the 1/200 try...\n",
      "0.758 seconds elapsed...\n",
      "Successfully fetched data for UTX...\n",
      "==========================================\n",
      "\n",
      "Connected! It's the 1/200 try...\n",
      "0.606 seconds elapsed...\n",
      "Successfully fetched data for UTX...\n",
      "==========================================\n",
      "\n",
      "Connected! It's the 1/200 try...\n",
      "0.641 seconds elapsed...\n",
      "Successfully fetched data for SFTBY...\n",
      "==========================================\n",
      "\n",
      "Connected! It's the 1/200 try...\n",
      "0.669 seconds elapsed...\n",
      "Successfully fetched data for BA...\n",
      "==========================================\n",
      "\n",
      "36.769994020462036 sec(s) elapsed...\n"
     ]
    }
   ],
   "source": [
    "mega_dict = {}\n",
    "\n",
    "t = time.time()\n",
    "\n",
    "for i in range( tweets.shape[0] ):\n",
    "    tweets_i    = tweets.iloc[i, :]\n",
    "    symbol      = tweets_i['ticker'].replace(' ', '')\n",
    "    tweets_date = tweets_i['date']\n",
    "    \n",
    "    \n",
    "    try:\n",
    "        mega_dict[ '%s %s'%(symbol,tweets_date) ] = fetch_data_set(symbol, tweets_date, plot = False)\n",
    "        print('Successfully fetched data for %s...'%symbol)\n",
    "        print('==========================================\\n')\n",
    "    \n",
    "    except Exception as e:\n",
    "        print('Failed to fetch data for %s!'%symbol)\n",
    "        print(e)\n",
    "        print('==========================================\\n')\n",
    "    \n",
    "        \n",
    "print(time.time() - t,'sec(s) elapsed...')"
   ]
  },
  {
   "cell_type": "code",
   "execution_count": 16,
   "metadata": {},
   "outputs": [
    {
     "data": {
      "text/plain": [
       "dict_keys(['F 2019-03-20 20:51:41', 'GM 2019-03-17 22:27:27', 'TM 2019-03-14 16:18:40', 'FCAU 2019-02-27 09:20:25', 'GM 2018-11-29 11:37:14', 'GM 2018-11-27 19:05:39', 'AAPL 2018-08-10 22:47:45', 'TRCO 2018-07-25 00:39:16', 'SBGI 2018-07-25 00:39:16', 'NVS 2018-07-19 10:23:14', 'PFE 2018-07-10 22:37:28', 'PFE 2018-07-09 17:08:29', 'HOG 2018-06-26 11:37:51', 'AMZN 2018-04-03 13:55:37', 'FOXA 2018-03-06 13:07:08', 'FCAU 2018-01-28 13:18:33', 'JPM 2018-01-24 11:58:58', 'DIS 2018-01-24 11:58:58', 'CCF 2018-01-24 11:58:58', 'AAPL 2018-01-17 23:28:30', 'FCAU 2018-01-12 02:53:05', 'TM 2018-01-11 04:29:02', 'AMZN 2017-12-29 13:04:09', 'AVGO 2017-11-02 20:33:18', 'AAL 2017-09-22 17:54:59', 'AMZN 2017-08-16 10:12:45', 'MRK 2017-08-14 12:54:47', 'AMZN 2017-07-25 02:36:17', 'MRK 2017-07-21 03:31:45', 'PFE 2017-07-21 03:31:45', 'GLW 2017-07-21 03:31:45', 'AMZN 2017-07-21 03:31:45', 'RXN 2017-05-07 22:58:47', 'F 2017-03-28 10:36:02', 'XOM 2017-03-06 16:19:00', 'INTC 2017-02-08 19:22:33', 'JWN 2017-02-08 15:51:01', 'GM 2017-01-25 00:46:57', 'GM 2017-01-17 17:55:38', 'WMT 2017-01-17 17:55:38', 'F 2017-01-09 14:16:34', 'FCAU 2017-01-09 14:14:10', 'TM 2017-01-05 18:14:30', 'F 2017-01-04 13:19:09', 'GM 2017-01-03 12:30:05', 'RXN 2016-12-02 22:06:00', 'BA 2016-12-06 08:52:00', 'LMT 2016-12-12 14:26:00', 'LMT 2016-12-22 17:26:00', 'F 2016-11-17 21:51:00', 'UTX 2016-11-24 10:12:00', 'UTX 2016-11-29 22:40:00', 'SFTBY 2016-12-06 14:10:00', 'BA 2016-12-22 17:26:00'])"
      ]
     },
     "execution_count": 16,
     "metadata": {},
     "output_type": "execute_result"
    }
   ],
   "source": [
    "mega_dict.keys()"
   ]
  },
  {
   "cell_type": "code",
   "execution_count": 17,
   "metadata": {},
   "outputs": [
    {
     "data": {
      "text/plain": [
       "dict_keys(['price', 'return', 'params', 't_values', 'p_values', 'AR'])"
      ]
     },
     "execution_count": 17,
     "metadata": {},
     "output_type": "execute_result"
    }
   ],
   "source": [
    "mega_dict['F 2019-03-20 20:51:41'].keys()"
   ]
  },
  {
   "cell_type": "markdown",
   "metadata": {},
   "source": [
    "# Summarize OLS result"
   ]
  },
  {
   "cell_type": "code",
   "execution_count": 18,
   "metadata": {},
   "outputs": [],
   "source": [
    "def label_sig(p_value):\n",
    "    ''' Lable significance level accorning p_value\n",
    "    '''\n",
    "    if p_value > 0.1:\n",
    "        return ''\n",
    "    elif p_value <= 0.1 and p_value > 0.05:\n",
    "        return '*'\n",
    "    elif p_value <= 0.05 and p_value > 0.01:\n",
    "        return '**'\n",
    "    elif p_value <= 0.01:\n",
    "        return '***'"
   ]
  },
  {
   "cell_type": "code",
   "execution_count": 19,
   "metadata": {},
   "outputs": [
    {
     "data": {
      "text/html": [
       "<div>\n",
       "<style scoped>\n",
       "    .dataframe tbody tr th:only-of-type {\n",
       "        vertical-align: middle;\n",
       "    }\n",
       "\n",
       "    .dataframe tbody tr th {\n",
       "        vertical-align: top;\n",
       "    }\n",
       "\n",
       "    .dataframe thead th {\n",
       "        text-align: right;\n",
       "    }\n",
       "</style>\n",
       "<table border=\"1\" class=\"dataframe\">\n",
       "  <thead>\n",
       "    <tr style=\"text-align: right;\">\n",
       "      <th></th>\n",
       "      <th>Stock</th>\n",
       "      <th>Intercept</th>\n",
       "      <th>Slope</th>\n",
       "    </tr>\n",
       "  </thead>\n",
       "  <tbody>\n",
       "    <tr>\n",
       "      <th>0</th>\n",
       "      <td>Ford</td>\n",
       "      <td>-0.00089(-0.88)</td>\n",
       "      <td>0.84(8.57)***</td>\n",
       "    </tr>\n",
       "    <tr>\n",
       "      <th>1</th>\n",
       "      <td>General Motors</td>\n",
       "      <td>0.00022(0.20)</td>\n",
       "      <td>0.92(8.45)***</td>\n",
       "    </tr>\n",
       "    <tr>\n",
       "      <th>2</th>\n",
       "      <td>Toyota</td>\n",
       "      <td>-0.00022(-0.37)</td>\n",
       "      <td>0.70(12.15)***</td>\n",
       "    </tr>\n",
       "    <tr>\n",
       "      <th>3</th>\n",
       "      <td>Fiat Chrysler</td>\n",
       "      <td>-0.00158(-1.08)</td>\n",
       "      <td>1.22(8.73)***</td>\n",
       "    </tr>\n",
       "    <tr>\n",
       "      <th>4</th>\n",
       "      <td>General Motors</td>\n",
       "      <td>-0.00074(-0.67)</td>\n",
       "      <td>0.95(8.11)***</td>\n",
       "    </tr>\n",
       "  </tbody>\n",
       "</table>\n",
       "</div>"
      ],
      "text/plain": [
       "             Stock        Intercept           Slope\n",
       "0             Ford  -0.00089(-0.88)   0.84(8.57)***\n",
       "1  General Motors     0.00022(0.20)   0.92(8.45)***\n",
       "2           Toyota  -0.00022(-0.37)  0.70(12.15)***\n",
       "3    Fiat Chrysler  -0.00158(-1.08)   1.22(8.73)***\n",
       "4  General Motors   -0.00074(-0.67)   0.95(8.11)***"
      ]
     },
     "execution_count": 19,
     "metadata": {},
     "output_type": "execute_result"
    }
   ],
   "source": [
    "def summary_OLS(mega_dict):\n",
    "    ''' Summarize OLS result\n",
    "    '''\n",
    "    summary = pd.DataFrame()\n",
    "    for k, v in zip( mega_dict.keys(), mega_dict.values() ):\n",
    "        symbol = re.findall(r'(\\w+)\\s2', k)[0]\n",
    "        date   = pd.to_datetime(re.findall(r'%s (.*)'%symbol, k)[0])\n",
    "        \n",
    "        company = tweets[ (tweets['ticker'] == symbol) & (tweets['date'] == date) ]['company'].values[0]\n",
    "        \n",
    "        intercept = '%.5f(%.2f)%s'%( \n",
    "                                v['params'  ]['const'],\n",
    "                                v['t_values']['const'],\n",
    "                                label_sig(v['p_values']['const'])\n",
    "                                    )\n",
    "        \n",
    "        slope = '%.2f(%.2f)%s'%( \n",
    "                                v['params'  ]['S_m'],\n",
    "                                v['t_values']['S_m'],\n",
    "                                label_sig(v['p_values']['S_m'])\n",
    "                                    )\n",
    "        \n",
    "        summary = summary.append( { \n",
    "                                'Stock'    : company,\n",
    "                                'Intercept': intercept, \n",
    "                                'Slope'    : slope\n",
    "                                    } ,ignore_index=True)\n",
    "    return summary[['Stock', 'Intercept', 'Slope']]\n",
    "\n",
    "regression_res = summary_OLS(mega_dict)\n",
    "regression_res.to_csv('coefficients_from_market_model_regression.csv')\n",
    "regression_res.head()"
   ]
  },
  {
   "cell_type": "markdown",
   "metadata": {},
   "source": [
    "# AAR test"
   ]
  },
  {
   "cell_type": "code",
   "execution_count": 20,
   "metadata": {},
   "outputs": [],
   "source": [
    "def collect_same_emotion(mega_dict = mega_dict, emotion = 1.):\n",
    "    ''' Collect data set with the same emotion\n",
    "    '''\n",
    "    data_lst = []\n",
    "    for k, v in zip( mega_dict.keys(), mega_dict.values() ):\n",
    "        symbol = re.findall(r'(\\w+)\\s2', k)[0]\n",
    "        date   = pd.to_datetime(re.findall(r'%s (.*)'%symbol, k)[0])\n",
    "        \n",
    "        emotion_ = tweets[ (tweets['ticker'] == symbol ) \\\n",
    "                         & (tweets['date'  ] == date   ) ]['type'].values[0]\n",
    "        \n",
    "        if emotion_ == emotion:\n",
    "            \n",
    "            data_lst.append( v['AR'].reset_index(drop = True) )\n",
    "    return data_lst"
   ]
  },
  {
   "cell_type": "code",
   "execution_count": 21,
   "metadata": {},
   "outputs": [
    {
     "name": "stdout",
     "output_type": "stream",
     "text": [
      "Positive sample size is 34, Negative sample size is 20.\n"
     ]
    }
   ],
   "source": [
    "data_pos = collect_same_emotion(emotion =  1)\n",
    "\n",
    "data_neg = collect_same_emotion(emotion = -1)\n",
    "\n",
    "print('Positive sample size is %s, Negative sample size is %s.'%( len(data_pos), len(data_neg) ))"
   ]
  },
  {
   "cell_type": "code",
   "execution_count": 25,
   "metadata": {},
   "outputs": [],
   "source": [
    "def summary_AAR(emotion = 1):\n",
    "    ''' Summarize AAR for specific emotion\n",
    "    '''\n",
    "    data = collect_same_emotion(emotion = emotion)\n",
    "    \n",
    "    size = len( data )\n",
    "    \n",
    "    df = pd.concat( data, axis = 1 )\n",
    "    \n",
    "    sigma = df.head(240).mean(axis = 1).std()\n",
    "    \n",
    "    sigma = df.head(240).mean(axis = 1).std()\n",
    "    \n",
    "    AAR = df.tail(21).mean(axis = 1)\n",
    "    \n",
    "    AAR.index = np.arange(-10, 11, 1)\n",
    "    \n",
    "    t_stats = AAR / sigma\n",
    "    \n",
    "    p_values = t_stats.apply(lambda x:  2 * (  0.5 - abs( T.cdf(x, df = 240 - 2) - 0.5 ) ) ) \n",
    "    \n",
    "    report = pd.concat([AAR, t_stats, p_values], axis = 1)\n",
    "    \n",
    "    report.columns = ['AAR', 't_statistic', 'p_values']\n",
    "    \n",
    "    report['AAR'        ] = report.apply(lambda x: \"{:.2%}\".format(x['AAR']) + label_sig(x['p_values']), axis = 1)\n",
    "    report['t_statistic'] = report['t_statistic'].apply(lambda x: round(x, 4))\n",
    "    report['p_values'   ] = report['p_values'   ].apply(lambda x: round(x, 4))\n",
    "    return report"
   ]
  },
  {
   "cell_type": "code",
   "execution_count": 26,
   "metadata": {},
   "outputs": [],
   "source": [
    "pos_AAR_summary = summary_AAR(emotion =  1)\n",
    "pos_AAR_summary.to_csv('aar_positive_tweets.csv')\n",
    "\n",
    "neg_AAR_summary = summary_AAR(emotion = -1)\n",
    "neg_AAR_summary.to_csv('aar_negative_tweets.csv')"
   ]
  },
  {
   "cell_type": "code",
   "execution_count": null,
   "metadata": {},
   "outputs": [],
   "source": []
  }
 ],
 "metadata": {
  "kernelspec": {
   "display_name": "Python 3",
   "language": "python",
   "name": "python3"
  },
  "language_info": {
   "codemirror_mode": {
    "name": "ipython",
    "version": 3
   },
   "file_extension": ".py",
   "mimetype": "text/x-python",
   "name": "python",
   "nbconvert_exporter": "python",
   "pygments_lexer": "ipython3",
   "version": "3.7.1"
  }
 },
 "nbformat": 4,
 "nbformat_minor": 2
}

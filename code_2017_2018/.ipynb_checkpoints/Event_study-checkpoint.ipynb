{
 "cells": [
  {
   "cell_type": "markdown",
   "metadata": {},
   "source": [
    "# Import packages"
   ]
  },
  {
   "cell_type": "code",
   "execution_count": 1,
   "metadata": {},
   "outputs": [
    {
     "name": "stdout",
     "output_type": "stream",
     "text": [
      "yahooo_crawler\n"
     ]
    }
   ],
   "source": [
    "import os\n",
    "import re\n",
    "import time\n",
    "import requests\n",
    "import numpy as np\n",
    "import pandas as pd\n",
    "import matplotlib.pyplot as plt\n",
    "from statsmodels.api import OLS, add_constant\n",
    "\n",
    "import yahoo_crawler\n",
    "yc = yahoo_crawler.yahoo_crawler()"
   ]
  },
  {
   "cell_type": "code",
   "execution_count": 2,
   "metadata": {},
   "outputs": [],
   "source": [
    "plt.rcParams['font.family'] = 'serif'\n",
    "plt.rcParams['figure.facecolor'] = '1.'\n",
    "plt.rcParams[\"axes.axisbelow\"] = False"
   ]
  },
  {
   "cell_type": "markdown",
   "metadata": {},
   "source": [
    "# Update local stock list"
   ]
  },
  {
   "cell_type": "code",
   "execution_count": 3,
   "metadata": {},
   "outputs": [],
   "source": [
    "def update_stocklist_data():\n",
    "    ''' Functions for update stocklist data\n",
    "    Source: www.nasdaq.com\n",
    "    '''\n",
    "    # create stock_list data folder\n",
    "    folder = os.getcwd() + '\\\\stock_list\\\\'\n",
    "    if not os.path.exists(folder):\n",
    "        os.makedirs(folder)\n",
    "\n",
    "    # soure url\n",
    "    url = 'https://www.nasdaq.com/screening/companies-by-name.aspx?letter=0&exchange=%s&render=download'\n",
    "\n",
    "    # available exhanges\n",
    "    exchange = ['nasdaq', 'nyse', 'amex']\n",
    "\n",
    "    for exchg in exchange:\n",
    "        resp = requests.get(url%exchg)\n",
    "        with open(folder + '%s.xlsx'%exchg, 'wb') as output:\n",
    "            output.write(resp.content)\n",
    "    pass\n",
    "\n",
    "# update stock_list\n",
    "update_stocklist_data()"
   ]
  },
  {
   "cell_type": "markdown",
   "metadata": {},
   "source": [
    "# Read local stock list"
   ]
  },
  {
   "cell_type": "code",
   "execution_count": 4,
   "metadata": {
    "scrolled": true
   },
   "outputs": [
    {
     "name": "stdout",
     "output_type": "stream",
     "text": [
      "AMEX.XLSX (309, 9) \n",
      "==================================================\n",
      "                                                 Name\n",
      "0                            22nd Century Group, Inc\n",
      "1              Aberdeen Asia-Pacific Income Fund Inc\n",
      "2                 Aberdeen Australia Equity Fund Inc\n",
      "3  Aberdeen Emerging Markets Equity Income Fund, ...\n",
      "4                  Aberdeen Global Income Fund, Inc.\n",
      "==================================================\n",
      "\n",
      "NASDAQ.XLSX (3447, 9) \n",
      "==================================================\n",
      "                                      Name\n",
      "0                               111, Inc.\n",
      "1  1347 Property Insurance Holdings, Inc.\n",
      "2  1347 Property Insurance Holdings, Inc.\n",
      "3                180 Degree Capital Corp.\n",
      "4                 1-800 FLOWERS.COM, Inc.\n",
      "==================================================\n",
      "\n",
      "NYSE.XLSX (3108, 9) \n",
      "==================================================\n",
      "                      Name\n",
      "0  3D Systems Corporation\n",
      "1              3M Company\n",
      "2         500.com Limited\n",
      "3             58.com Inc.\n",
      "4                 8x8 Inc\n",
      "==================================================\n",
      "\n",
      "Total 5304 companies, unique 4793 companies.\n"
     ]
    }
   ],
   "source": [
    "# data folder\n",
    "folder = os.getcwd() + '\\\\stock_list\\\\'\n",
    "\n",
    "# file names\n",
    "files = os.listdir( folder )\n",
    "\n",
    "stolis_df_list = []\n",
    "for f in files:\n",
    "    df = pd.read_csv( folder + f )\n",
    "    stolis_df_list.append(df)\n",
    "    print(f.upper(),df.shape, '\\n==================================================\\n',\n",
    "          df[['Name']].head() )\n",
    "    print('==================================================\\n')\n",
    "\n",
    "# concatenate companies from three exhanges\n",
    "stolis_df_ = pd.concat(stolis_df_list, axis = 0)\n",
    "\n",
    "# drop out fund\n",
    "stolis_df_ = stolis_df_[stolis_df_['industry'] == stolis_df_['industry']]\n",
    "\n",
    "# drop dupplicated company names\n",
    "stolis_df = stolis_df_.drop_duplicates(['Name']).reset_index(drop = True)\n",
    "\n",
    "print('Total %s companies, unique %s companies.' % (stolis_df_.shape[0], stolis_df.shape[0]))"
   ]
  },
  {
   "cell_type": "markdown",
   "metadata": {},
   "source": [
    "# Fetch yahoo finance stock data"
   ]
  },
  {
   "cell_type": "code",
   "execution_count": 5,
   "metadata": {},
   "outputs": [],
   "source": [
    "def get_stock_data(symbol, start, end,):\n",
    "    t = time.time()\n",
    "    cookie,crumb = yc.get_yahoo_crumb_cookie()\n",
    "\n",
    "    symbol = symbol# stock id\n",
    "    params = {'period1' : start,\n",
    "              'period2' : end,\n",
    "              'interval': '1d',\n",
    "              'events'  : 'history',\n",
    "              'crumb'   : crumb}\n",
    "    df = yc.GetStockPrice(symbol = symbol,\n",
    "                               params = params,\n",
    "                               request_type = 'post')\n",
    "    \n",
    "    # set date as index\n",
    "    df = df.set_index('Date')\n",
    "    df.sort_index(inplace = True)\n",
    "    \n",
    "    t2 = time.time() - t\n",
    "    print(str(round(t2,4))+' seconds elapsed...')\n",
    "    return df[['Adj Close']]"
   ]
  },
  {
   "cell_type": "code",
   "execution_count": 6,
   "metadata": {},
   "outputs": [
    {
     "name": "stdout",
     "output_type": "stream",
     "text": [
      "Connected! It's the 1/200 try...\n",
      "0.8125 seconds elapsed...\n"
     ]
    }
   ],
   "source": [
    "# define trading dates with S&P index\n",
    "SP500          = get_stock_data(symbol = '^GSPC', start = '2016-12-01', end = '2019-04-19')\n",
    "standard_index = SP500.index"
   ]
  },
  {
   "cell_type": "code",
   "execution_count": 7,
   "metadata": {},
   "outputs": [],
   "source": [
    "def reindex_data(symbol, tweets_date, standard_index = standard_index, how = 'test'):\n",
    "    \n",
    "    assert how in ['test', 'train'], 'Parameter *how* must be either \\'test\\' or \\'train\\'!'\n",
    "    \n",
    "    if how == 'test':\n",
    "        start = standard_index[ standard_index <  tweets_date][-11]\n",
    "        end   = standard_index[ standard_index >= tweets_date][ 11]\n",
    "\n",
    "        df = get_stock_data(symbol = symbol, start = start, end = end)\n",
    "\n",
    "        df = df.reindex(standard_index)\n",
    "\n",
    "        df_ = pd.concat([ df[ df.index <  tweets_date ].tail(10),\n",
    "                          df[ df.index >= tweets_date ].head(11) ])\n",
    "    \n",
    "    elif how == 'train':\n",
    "        start = standard_index[ standard_index <  tweets_date][-252]\n",
    "        end   = standard_index[ standard_index >= tweets_date][  11]\n",
    "\n",
    "        df = get_stock_data(symbol = symbol, start = start, end = end)\n",
    "\n",
    "        df = df.reindex(standard_index)\n",
    "\n",
    "        df_ = pd.concat([ df[ df.index <  tweets_date ].tail(251),\n",
    "                          df[ df.index >= tweets_date ].head(11) ])\n",
    "        \n",
    "    return df_"
   ]
  },
  {
   "cell_type": "markdown",
   "metadata": {},
   "source": [
    "# Fetch marked tweets data"
   ]
  },
  {
   "cell_type": "code",
   "execution_count": 8,
   "metadata": {},
   "outputs": [
    {
     "data": {
      "text/html": [
       "<div>\n",
       "<style scoped>\n",
       "    .dataframe tbody tr th:only-of-type {\n",
       "        vertical-align: middle;\n",
       "    }\n",
       "\n",
       "    .dataframe tbody tr th {\n",
       "        vertical-align: top;\n",
       "    }\n",
       "\n",
       "    .dataframe thead th {\n",
       "        text-align: right;\n",
       "    }\n",
       "</style>\n",
       "<table border=\"1\" class=\"dataframe\">\n",
       "  <thead>\n",
       "    <tr style=\"text-align: right;\">\n",
       "      <th></th>\n",
       "      <th>tweets</th>\n",
       "      <th>companies</th>\n",
       "      <th>created_at</th>\n",
       "    </tr>\n",
       "  </thead>\n",
       "  <tbody>\n",
       "    <tr>\n",
       "      <th>0</th>\n",
       "      <td>why would smart voters want to put democrats ...</td>\n",
       "      <td>['PUHUI WEALTH INVESTMENT MANAGEMENT CO., LTD.']</td>\n",
       "      <td>2017-12-31 13:36:32</td>\n",
       "    </tr>\n",
       "    <tr>\n",
       "      <th>1</th>\n",
       "      <td>big protests in iran. the people are finally ...</td>\n",
       "      <td>['PUHUI WEALTH INVESTMENT MANAGEMENT CO., LTD.']</td>\n",
       "      <td>2017-12-31 13:03:29</td>\n",
       "    </tr>\n",
       "    <tr>\n",
       "      <th>2</th>\n",
       "      <td>i use social media not because i like to, but...</td>\n",
       "      <td>['Pure Cycle Corporation', 'Pure Storage, Inc....</td>\n",
       "      <td>2017-12-30 22:36:41</td>\n",
       "    </tr>\n",
       "    <tr>\n",
       "      <th>3</th>\n",
       "      <td>on taxes: “this is the biggest  {CORPORATE}  ...</td>\n",
       "      <td>['Corporate Asset Backed Corp CABCO', 'Corpora...</td>\n",
       "      <td>2017-12-30 21:12:45</td>\n",
       "    </tr>\n",
       "    <tr>\n",
       "      <th>4</th>\n",
       "      <td>many reports of peaceful protests by iranian ...</td>\n",
       "      <td>['ZTO Express (Cayman) Inc.', 'Express, Inc.',...</td>\n",
       "      <td>2017-12-30 03:42:58</td>\n",
       "    </tr>\n",
       "  </tbody>\n",
       "</table>\n",
       "</div>"
      ],
      "text/plain": [
       "                                              tweets  \\\n",
       "0   why would smart voters want to put democrats ...   \n",
       "1   big protests in iran. the people are finally ...   \n",
       "2   i use social media not because i like to, but...   \n",
       "3   on taxes: “this is the biggest  {CORPORATE}  ...   \n",
       "4   many reports of peaceful protests by iranian ...   \n",
       "\n",
       "                                           companies          created_at  \n",
       "0   ['PUHUI WEALTH INVESTMENT MANAGEMENT CO., LTD.'] 2017-12-31 13:36:32  \n",
       "1   ['PUHUI WEALTH INVESTMENT MANAGEMENT CO., LTD.'] 2017-12-31 13:03:29  \n",
       "2  ['Pure Cycle Corporation', 'Pure Storage, Inc.... 2017-12-30 22:36:41  \n",
       "3  ['Corporate Asset Backed Corp CABCO', 'Corpora... 2017-12-30 21:12:45  \n",
       "4  ['ZTO Express (Cayman) Inc.', 'Express, Inc.',... 2017-12-30 03:42:58  "
      ]
     },
     "execution_count": 8,
     "metadata": {},
     "output_type": "execute_result"
    }
   ],
   "source": [
    "tweets = pd.read_excel('marked_tweets.xlsx')\n",
    "tweets.head()"
   ]
  },
  {
   "cell_type": "code",
   "execution_count": 9,
   "metadata": {},
   "outputs": [
    {
     "data": {
      "text/plain": [
       "tweets         i use social media not because i like to, but...\n",
       "companies     ['Pure Cycle Corporation', 'Pure Storage, Inc....\n",
       "created_at                                  2017-12-30 22:36:41\n",
       "Name: 2, dtype: object"
      ]
     },
     "execution_count": 9,
     "metadata": {},
     "output_type": "execute_result"
    }
   ],
   "source": [
    "tweets_i = tweets.iloc[2,:]\n",
    "tweets_i"
   ]
  },
  {
   "cell_type": "code",
   "execution_count": 10,
   "metadata": {},
   "outputs": [
    {
     "data": {
      "text/plain": [
       "'PCYO'"
      ]
     },
     "execution_count": 10,
     "metadata": {},
     "output_type": "execute_result"
    }
   ],
   "source": [
    "symbol = stolis_df['Symbol'][(stolis_df['Name'] == eval(tweets_i['companies'])[0])].values[0]\n",
    "symbol"
   ]
  },
  {
   "cell_type": "code",
   "execution_count": 11,
   "metadata": {},
   "outputs": [],
   "source": [
    "def my_normalize(df):\n",
    "    df = df.copy()\n",
    "    df -= df.mean()\n",
    "    df /= df.std()\n",
    "    return df"
   ]
  },
  {
   "cell_type": "markdown",
   "metadata": {},
   "source": [
    "test_S_i = reindex_data(symbol = symbol, tweets_date = tweets_i['created_at'])\n",
    "\n",
    "test_S_m = SP500.reindex(test_S_i.index)\n",
    "\n",
    "test_set = pd.concat([my_normalize(test_S_i), my_normalize(test_S_m) ], axis = 1)\n",
    "test_set.columns = ['S_i', 'S_m']\n",
    "test_set.plot()"
   ]
  },
  {
   "cell_type": "code",
   "execution_count": 12,
   "metadata": {},
   "outputs": [],
   "source": [
    "def fetch_data_set(symbol, tweets_date, plot = False):\n",
    "    S_i = reindex_data(symbol = symbol, tweets_date = tweets_date, how = 'train')\n",
    "\n",
    "    S_m = SP500.reindex(S_i.index)\n",
    "\n",
    "    df = pd.concat([S_i, S_m ], axis = 1)\n",
    "    df.columns = ['S_i', 'S_m']\n",
    "    \n",
    "    assert len(df[df['S_i'] != df['S_i']]) < 10, 'Missing values of stock %s are more than 10!'%symbol\n",
    "    \n",
    "    if plot:\n",
    "        fig = plt.figure()\n",
    "        plt.plot(my_normalize(df['S_i']), label = symbol)\n",
    "        plt.plot(my_normalize(df['S_m']), label = 'S&P500' )\n",
    "        plt.title('Data set (normalized)')\n",
    "        plt.ylabel('Normalize price serires')\n",
    "        plt.legend()\n",
    "        plt.grid()\n",
    "        plt.show()\n",
    "        \n",
    "    return df"
   ]
  },
  {
   "cell_type": "code",
   "execution_count": 13,
   "metadata": {},
   "outputs": [
    {
     "name": "stdout",
     "output_type": "stream",
     "text": [
      "Connected! It's the 1/200 try...\n",
      "0.8061 seconds elapsed...\n"
     ]
    },
    {
     "data": {
      "image/png": "[encoded data removed]",
      "text/plain": [
       "<Figure size 432x288 with 1 Axes>"
      ]
     },
     "metadata": {},
     "output_type": "display_data"
    },
    {
     "data": {
      "text/plain": [
       "(262, 2)"
      ]
     },
     "execution_count": 13,
     "metadata": {},
     "output_type": "execute_result"
    }
   ],
   "source": [
    "df = fetch_data_set(symbol, tweets_i['created_at'], plot = True)\n",
    "df.shape"
   ]
  },
  {
   "cell_type": "code",
   "execution_count": 14,
   "metadata": {},
   "outputs": [
    {
     "data": {
      "text/plain": [
       "<matplotlib.axes._subplots.AxesSubplot at 0x2215b857438>"
      ]
     },
     "execution_count": 14,
     "metadata": {},
     "output_type": "execute_result"
    },
    {
     "data": {
      "image/png": "[encoded data removed]",
      "text/plain": [
       "<Figure size 432x288 with 1 Axes>"
      ]
     },
     "metadata": {},
     "output_type": "display_data"
    }
   ],
   "source": [
    "ret = np.log(df).diff().dropna()\n",
    "ret.plot()"
   ]
  },
  {
   "cell_type": "code",
   "execution_count": 15,
   "metadata": {},
   "outputs": [],
   "source": [
    "X = add_constant(ret['S_m'].iloc[: 240])\n",
    "model = OLS(ret['S_i'].iloc[: 240], X).fit()"
   ]
  },
  {
   "cell_type": "code",
   "execution_count": 16,
   "metadata": {},
   "outputs": [
    {
     "data": {
      "text/html": [
       "<table class=\"simpletable\">\n",
       "<caption>OLS Regression Results</caption>\n",
       "<tr>\n",
       "  <th>Dep. Variable:</th>           <td>S_i</td>       <th>  R-squared:         </th> <td>   0.009</td>\n",
       "</tr>\n",
       "<tr>\n",
       "  <th>Model:</th>                   <td>OLS</td>       <th>  Adj. R-squared:    </th> <td>   0.005</td>\n",
       "</tr>\n",
       "<tr>\n",
       "  <th>Method:</th>             <td>Least Squares</td>  <th>  F-statistic:       </th> <td>   2.163</td>\n",
       "</tr>\n",
       "<tr>\n",
       "  <th>Date:</th>             <td>Sat, 20 Apr 2019</td> <th>  Prob (F-statistic):</th>  <td> 0.143</td> \n",
       "</tr>\n",
       "<tr>\n",
       "  <th>Time:</th>                 <td>15:24:10</td>     <th>  Log-Likelihood:    </th> <td>  575.27</td>\n",
       "</tr>\n",
       "<tr>\n",
       "  <th>No. Observations:</th>      <td>   240</td>      <th>  AIC:               </th> <td>  -1147.</td>\n",
       "</tr>\n",
       "<tr>\n",
       "  <th>Df Residuals:</th>          <td>   238</td>      <th>  BIC:               </th> <td>  -1140.</td>\n",
       "</tr>\n",
       "<tr>\n",
       "  <th>Df Model:</th>              <td>     1</td>      <th>                     </th>     <td> </td>   \n",
       "</tr>\n",
       "<tr>\n",
       "  <th>Covariance Type:</th>      <td>nonrobust</td>    <th>                     </th>     <td> </td>   \n",
       "</tr>\n",
       "</table>\n",
       "<table class=\"simpletable\">\n",
       "<tr>\n",
       "    <td></td>       <th>coef</th>     <th>std err</th>      <th>t</th>      <th>P>|t|</th>  <th>[0.025</th>    <th>0.975]</th>  \n",
       "</tr>\n",
       "<tr>\n",
       "  <th>const</th> <td>    0.0011</td> <td>    0.001</td> <td>    0.791</td> <td> 0.430</td> <td>   -0.002</td> <td>    0.004</td>\n",
       "</tr>\n",
       "<tr>\n",
       "  <th>S_m</th>   <td>    0.5002</td> <td>    0.340</td> <td>    1.471</td> <td> 0.143</td> <td>   -0.170</td> <td>    1.170</td>\n",
       "</tr>\n",
       "</table>\n",
       "<table class=\"simpletable\">\n",
       "<tr>\n",
       "  <th>Omnibus:</th>       <td>25.192</td> <th>  Durbin-Watson:     </th> <td>   2.262</td>\n",
       "</tr>\n",
       "<tr>\n",
       "  <th>Prob(Omnibus):</th> <td> 0.000</td> <th>  Jarque-Bera (JB):  </th> <td>  47.028</td>\n",
       "</tr>\n",
       "<tr>\n",
       "  <th>Skew:</th>          <td> 0.561</td> <th>  Prob(JB):          </th> <td>6.14e-11</td>\n",
       "</tr>\n",
       "<tr>\n",
       "  <th>Kurtosis:</th>      <td> 4.856</td> <th>  Cond. No.          </th> <td>    238.</td>\n",
       "</tr>\n",
       "</table><br/><br/>Warnings:<br/>[1] Standard Errors assume that the covariance matrix of the errors is correctly specified."
      ],
      "text/plain": [
       "<class 'statsmodels.iolib.summary.Summary'>\n",
       "\"\"\"\n",
       "                            OLS Regression Results                            \n",
       "==============================================================================\n",
       "Dep. Variable:                    S_i   R-squared:                       0.009\n",
       "Model:                            OLS   Adj. R-squared:                  0.005\n",
       "Method:                 Least Squares   F-statistic:                     2.163\n",
       "Date:                Sat, 20 Apr 2019   Prob (F-statistic):              0.143\n",
       "Time:                        15:24:10   Log-Likelihood:                 575.27\n",
       "No. Observations:                 240   AIC:                            -1147.\n",
       "Df Residuals:                     238   BIC:                            -1140.\n",
       "Df Model:                           1                                         \n",
       "Covariance Type:            nonrobust                                         \n",
       "==============================================================================\n",
       "                 coef    std err          t      P>|t|      [0.025      0.975]\n",
       "------------------------------------------------------------------------------\n",
       "const          0.0011      0.001      0.791      0.430      -0.002       0.004\n",
       "S_m            0.5002      0.340      1.471      0.143      -0.170       1.170\n",
       "==============================================================================\n",
       "Omnibus:                       25.192   Durbin-Watson:                   2.262\n",
       "Prob(Omnibus):                  0.000   Jarque-Bera (JB):               47.028\n",
       "Skew:                           0.561   Prob(JB):                     6.14e-11\n",
       "Kurtosis:                       4.856   Cond. No.                         238.\n",
       "==============================================================================\n",
       "\n",
       "Warnings:\n",
       "[1] Standard Errors assume that the covariance matrix of the errors is correctly specified.\n",
       "\"\"\""
      ]
     },
     "execution_count": 16,
     "metadata": {},
     "output_type": "execute_result"
    }
   ],
   "source": [
    "model.summary()"
   ]
  },
  {
   "cell_type": "code",
   "execution_count": null,
   "metadata": {},
   "outputs": [],
   "source": []
  }
 ],
 "metadata": {
  "kernelspec": {
   "display_name": "Python 3",
   "language": "python",
   "name": "python3"
  },
  "language_info": {
   "codemirror_mode": {
    "name": "ipython",
    "version": 3
   },
   "file_extension": ".py",
   "mimetype": "text/x-python",
   "name": "python",
   "nbconvert_exporter": "python",
   "pygments_lexer": "ipython3",
   "version": "3.7.1"
  }
 },
 "nbformat": 4,
 "nbformat_minor": 2
}
